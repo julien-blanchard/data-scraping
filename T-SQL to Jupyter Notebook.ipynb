{
 "cells": [
  {
   "cell_type": "markdown",
   "metadata": {
    "id": "BiqL0eOCcy4L"
   },
   "source": [
    "# **Quickly query a local SQL Server database from Jupyter Notebook**\n",
    "\n",
    "*   **Connect to an SQL database**: There are several Python libraries that can help connect with an SQL database, but we're going to go with [Pyodbc](https://pypi.org/project/pyodbc/), as the official documentation on the Pyodbc website is very clear and helpful."
   ]
  },
  {
   "cell_type": "code",
   "execution_count": null,
   "metadata": {
    "id": "ePr1chIscy4M",
    "outputId": "27bf474f-18f9-4b78-dd77-1c63f31bf01a"
   },
   "outputs": [
    {
     "data": {
      "text/html": [
       "        <script type=\"text/javascript\">\n",
       "        window.PlotlyConfig = {MathJaxConfig: 'local'};\n",
       "        if (window.MathJax) {MathJax.Hub.Config({SVG: {font: \"STIX-Web\"}});}\n",
       "        if (typeof require !== 'undefined') {\n",
       "        require.undef(\"plotly\");\n",
       "        requirejs.config({\n",
       "            paths: {\n",
       "                'plotly': ['https://cdn.plot.ly/plotly-latest.min']\n",
       "            }\n",
       "        });\n",
       "        require(['plotly'], function(Plotly) {\n",
       "            window._Plotly = Plotly;\n",
       "        });\n",
       "        }\n",
       "        </script>\n",
       "        "
      ]
     },
     "metadata": {
      "tags": []
     },
     "output_type": "display_data"
    }
   ],
   "source": [
    "# importing our main modules\n",
    "import pandas as pd\n",
    "import pyodbc"
   ]
  },
  {
   "cell_type": "code",
   "execution_count": null,
   "metadata": {
    "id": "P9ft43v4cy4N"
   },
   "outputs": [],
   "source": [
    "# how to connect to a local SQL server database https://datatofish.com/how-to-connect-python-to-sql-server-using-pyodbc/\n",
    "def getSQLServerConnection(server_address,database_name):\n",
    "    conn = pyodbc.connect(\"Driver={ODBC Driver 17 for SQL Server};\"\n",
    "                          f\"Server={server_address};\"\n",
    "                          f\"Database={database_name};\"\n",
    "                          \"Trusted_Connection=yes;\")\n",
    "    return conn\n",
    "\n",
    "# connecting to my local SQL Server entity\n",
    "conn = getSQLServerConnection(\"********\", \n",
    "                              \"******\"\n",
    "                             )"
   ]
  },
  {
   "cell_type": "code",
   "execution_count": null,
   "metadata": {
    "id": "aq8uLjeEcy4O",
    "outputId": "3189362f-83c8-4a67-ae36-2a8ffb0333a7"
   },
   "outputs": [
    {
     "data": {
      "text/html": [
       "<div>\n",
       "<style scoped>\n",
       "    .dataframe tbody tr th:only-of-type {\n",
       "        vertical-align: middle;\n",
       "    }\n",
       "\n",
       "    .dataframe tbody tr th {\n",
       "        vertical-align: top;\n",
       "    }\n",
       "\n",
       "    .dataframe thead th {\n",
       "        text-align: right;\n",
       "    }\n",
       "</style>\n",
       "<table border=\"1\" class=\"dataframe\">\n",
       "  <thead>\n",
       "    <tr style=\"text-align: right;\">\n",
       "      <th></th>\n",
       "      <th>salesid</th>\n",
       "      <th>listid</th>\n",
       "      <th>sellerid</th>\n",
       "      <th>buyerid</th>\n",
       "      <th>eventid</th>\n",
       "      <th>dateid</th>\n",
       "      <th>quantitysold</th>\n",
       "      <th>pricepaid</th>\n",
       "      <th>commission</th>\n",
       "      <th>saleday</th>\n",
       "      <th>saletime</th>\n",
       "    </tr>\n",
       "  </thead>\n",
       "  <tbody>\n",
       "    <tr>\n",
       "      <th>0</th>\n",
       "      <td>102262</td>\n",
       "      <td>116982</td>\n",
       "      <td>9971</td>\n",
       "      <td>9814</td>\n",
       "      <td>1316</td>\n",
       "      <td>2013</td>\n",
       "      <td>1</td>\n",
       "      <td>287</td>\n",
       "      <td>43.05</td>\n",
       "      <td>6/7/08</td>\n",
       "      <td>09:24:36</td>\n",
       "    </tr>\n",
       "    <tr>\n",
       "      <th>1</th>\n",
       "      <td>102263</td>\n",
       "      <td>116983</td>\n",
       "      <td>40052</td>\n",
       "      <td>167</td>\n",
       "      <td>8592</td>\n",
       "      <td>2038</td>\n",
       "      <td>1</td>\n",
       "      <td>79</td>\n",
       "      <td>11.85</td>\n",
       "      <td>7/31/2008</td>\n",
       "      <td>09:26:26</td>\n",
       "    </tr>\n",
       "    <tr>\n",
       "      <th>2</th>\n",
       "      <td>102264</td>\n",
       "      <td>116984</td>\n",
       "      <td>29567</td>\n",
       "      <td>24492</td>\n",
       "      <td>4999</td>\n",
       "      <td>1894</td>\n",
       "      <td>2</td>\n",
       "      <td>952</td>\n",
       "      <td>142.80</td>\n",
       "      <td>9/3/08</td>\n",
       "      <td>09:27:44</td>\n",
       "    </tr>\n",
       "  </tbody>\n",
       "</table>\n",
       "</div>"
      ],
      "text/plain": [
       "  salesid  listid  sellerid  buyerid  eventid  dateid quantitysold  pricepaid  \\\n",
       "0  102262  116982      9971     9814     1316    2013            1        287   \n",
       "1  102263  116983     40052      167     8592    2038            1         79   \n",
       "2  102264  116984     29567    24492     4999    1894            2        952   \n",
       "\n",
       "   commission    saleday  saletime  \n",
       "0       43.05     6/7/08  09:24:36  \n",
       "1       11.85  7/31/2008  09:26:26  \n",
       "2      142.80     9/3/08  09:27:44  "
      ]
     },
     "execution_count": 3,
     "metadata": {
      "tags": []
     },
     "output_type": "execute_result"
    }
   ],
   "source": [
    "# we can now pass the data into a Pandas dataframe, using native T-SQL language\n",
    "def getQuery(sql_query):\n",
    "    df = pd.read_sql_query(sql_query,conn)\n",
    "    return df\n",
    "\n",
    "# testing our newly created function\n",
    "df = getQuery(\n",
    "\"\"\"\n",
    "SELECT TOP 3 *\n",
    "FROM sales\n",
    "\"\"\"\n",
    "    )\n",
    "df"
   ]
  },
  {
   "cell_type": "markdown",
   "metadata": {
    "id": "UsPz4fHxcy4O"
   },
   "source": [
    "# **Examples**"
   ]
  },
  {
   "cell_type": "code",
   "execution_count": null,
   "metadata": {
    "id": "UqmN9nXWcy4k",
    "outputId": "fc16f3cc-6331-4dcf-e06b-bed55fd8ab07"
   },
   "outputs": [
    {
     "data": {
      "text/html": [
       "<div>\n",
       "<style scoped>\n",
       "    .dataframe tbody tr th:only-of-type {\n",
       "        vertical-align: middle;\n",
       "    }\n",
       "\n",
       "    .dataframe tbody tr th {\n",
       "        vertical-align: top;\n",
       "    }\n",
       "\n",
       "    .dataframe thead th {\n",
       "        text-align: right;\n",
       "    }\n",
       "</style>\n",
       "<table border=\"1\" class=\"dataframe\">\n",
       "  <thead>\n",
       "    <tr style=\"text-align: right;\">\n",
       "      <th></th>\n",
       "      <th>total_sales</th>\n",
       "      <th>total_value</th>\n",
       "    </tr>\n",
       "  </thead>\n",
       "  <tbody>\n",
       "    <tr>\n",
       "      <th>0</th>\n",
       "      <td>172,456</td>\n",
       "      <td>110,765,431</td>\n",
       "    </tr>\n",
       "  </tbody>\n",
       "</table>\n",
       "</div>"
      ],
      "text/plain": [
       "  total_sales  total_value\n",
       "0     172,456  110,765,431"
      ]
     },
     "execution_count": 6,
     "metadata": {
      "tags": []
     },
     "output_type": "execute_result"
    }
   ],
   "source": [
    "# 1. Overall total value and volume.\n",
    "df = getQuery(\n",
    "\"\"\"\n",
    "SELECT\n",
    "    FORMAT(COUNT(salesid), 'N0') AS total_sales,\n",
    "    FORMAT(SUM(pricepaid), 'N0') AS total_value\n",
    "FROM\n",
    "    sales;\n",
    "\"\"\"\n",
    "    )\n",
    "df"
   ]
  },
  {
   "cell_type": "code",
   "execution_count": null,
   "metadata": {
    "id": "MRq1KH79cy4k",
    "outputId": "9a7284f3-6820-43a1-e4b8-5564a7829388"
   },
   "outputs": [
    {
     "data": {
      "text/html": [
       "<div>\n",
       "<style scoped>\n",
       "    .dataframe tbody tr th:only-of-type {\n",
       "        vertical-align: middle;\n",
       "    }\n",
       "\n",
       "    .dataframe tbody tr th {\n",
       "        vertical-align: top;\n",
       "    }\n",
       "\n",
       "    .dataframe thead th {\n",
       "        text-align: right;\n",
       "    }\n",
       "</style>\n",
       "<table border=\"1\" class=\"dataframe\">\n",
       "  <thead>\n",
       "    <tr style=\"text-align: right;\">\n",
       "      <th></th>\n",
       "      <th>username</th>\n",
       "      <th>sellerid</th>\n",
       "      <th>full_name</th>\n",
       "      <th>total_value</th>\n",
       "      <th>total_volume</th>\n",
       "    </tr>\n",
       "  </thead>\n",
       "  <tbody>\n",
       "    <tr>\n",
       "      <th>0</th>\n",
       "      <td>UQD29HRW</td>\n",
       "      <td>41337</td>\n",
       "      <td>Lillith Curtis</td>\n",
       "      <td>24223</td>\n",
       "      <td>22</td>\n",
       "    </tr>\n",
       "    <tr>\n",
       "      <th>1</th>\n",
       "      <td>HSR02WON</td>\n",
       "      <td>21492</td>\n",
       "      <td>Venus Maddox</td>\n",
       "      <td>14281</td>\n",
       "      <td>35</td>\n",
       "    </tr>\n",
       "    <tr>\n",
       "      <th>2</th>\n",
       "      <td>AIG24AZS</td>\n",
       "      <td>17034</td>\n",
       "      <td>Jeremy Reilly</td>\n",
       "      <td>13920</td>\n",
       "      <td>6</td>\n",
       "    </tr>\n",
       "    <tr>\n",
       "      <th>3</th>\n",
       "      <td>YYJ75QFH</td>\n",
       "      <td>33128</td>\n",
       "      <td>Amaya Petersen</td>\n",
       "      <td>13041</td>\n",
       "      <td>7</td>\n",
       "    </tr>\n",
       "    <tr>\n",
       "      <th>4</th>\n",
       "      <td>YRT41PVD</td>\n",
       "      <td>27369</td>\n",
       "      <td>Stuart Bentley</td>\n",
       "      <td>12677</td>\n",
       "      <td>7</td>\n",
       "    </tr>\n",
       "  </tbody>\n",
       "</table>\n",
       "</div>"
      ],
      "text/plain": [
       "   username  sellerid       full_name  total_value  total_volume\n",
       "0  UQD29HRW     41337  Lillith Curtis        24223            22\n",
       "1  HSR02WON     21492    Venus Maddox        14281            35\n",
       "2  AIG24AZS     17034   Jeremy Reilly        13920             6\n",
       "3  YYJ75QFH     33128  Amaya Petersen        13041             7\n",
       "4  YRT41PVD     27369  Stuart Bentley        12677             7"
      ]
     },
     "execution_count": 7,
     "metadata": {
      "tags": []
     },
     "output_type": "execute_result"
    }
   ],
   "source": [
    "# 2. Top 5 sellers by value (user name, first name, last name, user name, value and quantity sold) in New York.\n",
    "df = getQuery(\n",
    "\"\"\"\n",
    "WITH t2 (userid, username, firstname, lastname, state) AS\n",
    "    (SELECT userid, username, firstname, lastname, state FROM allusers)\n",
    "SELECT TOP 5\n",
    "    t2.username,\n",
    "    t1.sellerid,\n",
    "    CONCAT(t2.firstname, ' ', t2.lastname) AS full_name,\n",
    "    SUM(t1.pricepaid) AS total_value,\n",
    "    SUM(CAST(t1.quantitysold AS INT)) AS total_volume\n",
    "FROM\n",
    "    sales AS t1\n",
    "    LEFT JOIN t2 on t1.sellerid = t2.userid\n",
    "WHERE\n",
    "    t2.state = 'NY'\n",
    "GROUP BY \n",
    "    t2.username,t1.sellerid,CONCAT(t2.firstname, ' ', t2.lastname)\n",
    "ORDER BY\n",
    "    total_value DESC;\n",
    "\"\"\"\n",
    "    )\n",
    "df"
   ]
  },
  {
   "cell_type": "code",
   "execution_count": null,
   "metadata": {
    "id": "A5uOh4Cvcy4l",
    "outputId": "da8d0809-b43a-42ac-882e-92f0af792fda"
   },
   "outputs": [
    {
     "data": {
      "text/html": [
       "<div>\n",
       "<style scoped>\n",
       "    .dataframe tbody tr th:only-of-type {\n",
       "        vertical-align: middle;\n",
       "    }\n",
       "\n",
       "    .dataframe tbody tr th {\n",
       "        vertical-align: top;\n",
       "    }\n",
       "\n",
       "    .dataframe thead th {\n",
       "        text-align: right;\n",
       "    }\n",
       "</style>\n",
       "<table border=\"1\" class=\"dataframe\">\n",
       "  <thead>\n",
       "    <tr style=\"text-align: right;\">\n",
       "      <th></th>\n",
       "      <th>username</th>\n",
       "      <th>buyerid</th>\n",
       "      <th></th>\n",
       "      <th>total_value</th>\n",
       "      <th>total_volume</th>\n",
       "    </tr>\n",
       "  </thead>\n",
       "  <tbody>\n",
       "    <tr>\n",
       "      <th>0</th>\n",
       "      <td>LXF16RPG</td>\n",
       "      <td>4303</td>\n",
       "      <td>Latifah Wade</td>\n",
       "      <td>46710</td>\n",
       "      <td>33</td>\n",
       "    </tr>\n",
       "    <tr>\n",
       "      <th>1</th>\n",
       "      <td>YHF13OYW</td>\n",
       "      <td>240</td>\n",
       "      <td>Charity Dominguez</td>\n",
       "      <td>46570</td>\n",
       "      <td>48</td>\n",
       "    </tr>\n",
       "    <tr>\n",
       "      <th>2</th>\n",
       "      <td>BWV25SNA</td>\n",
       "      <td>1239</td>\n",
       "      <td>Chancellor Odonnell</td>\n",
       "      <td>45684</td>\n",
       "      <td>52</td>\n",
       "    </tr>\n",
       "    <tr>\n",
       "      <th>3</th>\n",
       "      <td>CKM68QQM</td>\n",
       "      <td>3286</td>\n",
       "      <td>Ava Marquez</td>\n",
       "      <td>45414</td>\n",
       "      <td>38</td>\n",
       "    </tr>\n",
       "    <tr>\n",
       "      <th>4</th>\n",
       "      <td>KUP01TZN</td>\n",
       "      <td>16391</td>\n",
       "      <td>Aretha Mason</td>\n",
       "      <td>40943</td>\n",
       "      <td>38</td>\n",
       "    </tr>\n",
       "  </tbody>\n",
       "</table>\n",
       "</div>"
      ],
      "text/plain": [
       "   username  buyerid                       total_value  total_volume\n",
       "0  LXF16RPG     4303         Latifah Wade        46710            33\n",
       "1  YHF13OYW      240    Charity Dominguez        46570            48\n",
       "2  BWV25SNA     1239  Chancellor Odonnell        45684            52\n",
       "3  CKM68QQM     3286          Ava Marquez        45414            38\n",
       "4  KUP01TZN    16391         Aretha Mason        40943            38"
      ]
     },
     "execution_count": 8,
     "metadata": {
      "tags": []
     },
     "output_type": "execute_result"
    }
   ],
   "source": [
    "# 3. Top 5 buyers (user name, first name, last name, user name, value and quantity sold) overall by value and volume.\n",
    "df = getQuery(\n",
    "\"\"\"\n",
    "WITH t2 (userid, username, firstname, lastname, state) AS\n",
    "    (SELECT userid, username, firstname, lastname, state FROM allusers)\n",
    "SELECT TOP 5\n",
    "    t2.username,\n",
    "    t1.buyerid,\n",
    "    CONCAT(t2.firstname, ' ', t2.lastname),\n",
    "    SUM(t1.pricepaid) AS total_value,\n",
    "    SUM(CAST(t1.quantitysold AS INT)) AS total_volume\n",
    "FROM\n",
    "    sales AS t1\n",
    "    LEFT JOIN t2 on t1.buyerid = t2.userid\n",
    "GROUP BY \n",
    "    t2.username,t1.buyerid,CONCAT(t2.firstname, ' ', t2.lastname)\n",
    "ORDER BY\n",
    "    total_value DESC;\n",
    "\"\"\"\n",
    "    )\n",
    "df"
   ]
  },
  {
   "cell_type": "code",
   "execution_count": null,
   "metadata": {
    "id": "60vw2Cmxcy4l",
    "outputId": "eedbfdfa-6927-4d75-9b79-2a8446de8798"
   },
   "outputs": [
    {
     "data": {
      "text/html": [
       "<div>\n",
       "<style scoped>\n",
       "    .dataframe tbody tr th:only-of-type {\n",
       "        vertical-align: middle;\n",
       "    }\n",
       "\n",
       "    .dataframe tbody tr th {\n",
       "        vertical-align: top;\n",
       "    }\n",
       "\n",
       "    .dataframe thead th {\n",
       "        text-align: right;\n",
       "    }\n",
       "</style>\n",
       "<table border=\"1\" class=\"dataframe\">\n",
       "  <thead>\n",
       "    <tr style=\"text-align: right;\">\n",
       "      <th></th>\n",
       "      <th>venuename</th>\n",
       "      <th>capacity</th>\n",
       "    </tr>\n",
       "  </thead>\n",
       "  <tbody>\n",
       "    <tr>\n",
       "      <th>0</th>\n",
       "      <td>FedExField</td>\n",
       "      <td>91,704</td>\n",
       "    </tr>\n",
       "    <tr>\n",
       "      <th>1</th>\n",
       "      <td>New York Giants Stadium</td>\n",
       "      <td>80,242</td>\n",
       "    </tr>\n",
       "    <tr>\n",
       "      <th>2</th>\n",
       "      <td>Arrowhead Stadium</td>\n",
       "      <td>79,451</td>\n",
       "    </tr>\n",
       "    <tr>\n",
       "      <th>3</th>\n",
       "      <td>INVESCO Field</td>\n",
       "      <td>76,125</td>\n",
       "    </tr>\n",
       "    <tr>\n",
       "      <th>4</th>\n",
       "      <td>Dolphin Stadium</td>\n",
       "      <td>74,916</td>\n",
       "    </tr>\n",
       "  </tbody>\n",
       "</table>\n",
       "</div>"
      ],
      "text/plain": [
       "                 venuename capacity\n",
       "0               FedExField   91,704\n",
       "1  New York Giants Stadium   80,242\n",
       "2        Arrowhead Stadium   79,451\n",
       "3            INVESCO Field   76,125\n",
       "4          Dolphin Stadium   74,916"
      ]
     },
     "execution_count": 9,
     "metadata": {
      "tags": []
     },
     "output_type": "execute_result"
    }
   ],
   "source": [
    "# 4. Top 5 venues overall by capacity (venue seats) and what is their seating capacity?\n",
    "df = getQuery(\n",
    "\"\"\"\n",
    "SELECT TOP 5\n",
    "    venuename,\n",
    "    FORMAT(CAST(venueseats AS int), 'N0') AS capacity\n",
    "FROM\n",
    "    venue\n",
    "ORDER BY\n",
    "    venueseats DESC;\n",
    "\"\"\"\n",
    "    )\n",
    "df"
   ]
  },
  {
   "cell_type": "code",
   "execution_count": null,
   "metadata": {
    "id": "xmMMBR08cy4l",
    "outputId": "e3f57374-c627-4d49-cd7e-285dc28eb103"
   },
   "outputs": [
    {
     "data": {
      "text/html": [
       "<div>\n",
       "<style scoped>\n",
       "    .dataframe tbody tr th:only-of-type {\n",
       "        vertical-align: middle;\n",
       "    }\n",
       "\n",
       "    .dataframe tbody tr th {\n",
       "        vertical-align: top;\n",
       "    }\n",
       "\n",
       "    .dataframe thead th {\n",
       "        text-align: right;\n",
       "    }\n",
       "</style>\n",
       "<table border=\"1\" class=\"dataframe\">\n",
       "  <thead>\n",
       "    <tr style=\"text-align: right;\">\n",
       "      <th></th>\n",
       "      <th>priceperticket</th>\n",
       "      <th>eventid</th>\n",
       "      <th>buyer_name</th>\n",
       "      <th>seller_name</th>\n",
       "      <th>eventname</th>\n",
       "      <th>venuecity</th>\n",
       "    </tr>\n",
       "  </thead>\n",
       "  <tbody>\n",
       "    <tr>\n",
       "      <th>0</th>\n",
       "      <td>2500</td>\n",
       "      <td>3504</td>\n",
       "      <td>Barrett Lynn</td>\n",
       "      <td>Neville Myers</td>\n",
       "      <td>The Cherry Orchard</td>\n",
       "      <td>New York City</td>\n",
       "    </tr>\n",
       "    <tr>\n",
       "      <th>1</th>\n",
       "      <td>2500</td>\n",
       "      <td>3504</td>\n",
       "      <td>Clayton Chase</td>\n",
       "      <td>Neville Myers</td>\n",
       "      <td>The Cherry Orchard</td>\n",
       "      <td>New York City</td>\n",
       "    </tr>\n",
       "    <tr>\n",
       "      <th>2</th>\n",
       "      <td>2500</td>\n",
       "      <td>3504</td>\n",
       "      <td>Cara Hampton</td>\n",
       "      <td>Neville Myers</td>\n",
       "      <td>The Cherry Orchard</td>\n",
       "      <td>New York City</td>\n",
       "    </tr>\n",
       "    <tr>\n",
       "      <th>3</th>\n",
       "      <td>2500</td>\n",
       "      <td>3504</td>\n",
       "      <td>Grady Oneil</td>\n",
       "      <td>Kai Hooper</td>\n",
       "      <td>The Cherry Orchard</td>\n",
       "      <td>New York City</td>\n",
       "    </tr>\n",
       "    <tr>\n",
       "      <th>4</th>\n",
       "      <td>2500</td>\n",
       "      <td>3504</td>\n",
       "      <td>Alexa Reese</td>\n",
       "      <td>Cassidy Gentry</td>\n",
       "      <td>The Cherry Orchard</td>\n",
       "      <td>New York City</td>\n",
       "    </tr>\n",
       "  </tbody>\n",
       "</table>\n",
       "</div>"
      ],
      "text/plain": [
       "   priceperticket eventid     buyer_name     seller_name           eventname  \\\n",
       "0            2500    3504   Barrett Lynn   Neville Myers  The Cherry Orchard   \n",
       "1            2500    3504  Clayton Chase   Neville Myers  The Cherry Orchard   \n",
       "2            2500    3504   Cara Hampton   Neville Myers  The Cherry Orchard   \n",
       "3            2500    3504    Grady Oneil      Kai Hooper  The Cherry Orchard   \n",
       "4            2500    3504    Alexa Reese  Cassidy Gentry  The Cherry Orchard   \n",
       "\n",
       "       venuecity  \n",
       "0  New York City  \n",
       "1  New York City  \n",
       "2  New York City  \n",
       "3  New York City  \n",
       "4  New York City  "
      ]
     },
     "execution_count": 10,
     "metadata": {
      "tags": []
     },
     "output_type": "execute_result"
    }
   ],
   "source": [
    "# 5. Most expensive ticket sold (price per ticket), who (buyer’s first & last name) bought this ticket? Who sold the ticket (seller’s first & last name)? What was the event name and in which city was it hosted?\n",
    "df = getQuery(\n",
    "\"\"\"\n",
    "SELECT TOP 5\n",
    "    t1.priceperticket,\n",
    "    t2.eventid,\n",
    "    CONCAT(ISNULL(t4.firstname, 'unknown'), ' ', t4.lastname) AS buyer_name,\n",
    "    CONCAT(ISNULL(t5.firstname, 'unknown'), ' ', t5.lastname) AS seller_name,\n",
    "    t2.eventname,\n",
    "    t6.venuecity\n",
    "FROM\n",
    "    listings AS t1\n",
    "    LEFT JOIN allevents AS t2 ON t1.eventid = t2.eventid\n",
    "    LEFT JOIN sales AS t3 ON t2.eventid = t3.eventid\n",
    "    LEFT JOIN allusers AS t4 ON t3.buyerid = t4.userid\n",
    "    LEFT JOIN allusers AS t5 ON t3.sellerid = t5.userid\n",
    "    LEFT JOIN venue AS t6 ON t2.venueid = t6.venueid\n",
    "ORDER BY\n",
    "    t1.priceperticket DESC;\n",
    "\"\"\"\n",
    "    )\n",
    "df"
   ]
  }
 ],
 "metadata": {
  "colab": {
   "collapsed_sections": [
    "VZBmM1fUcy4X",
    "HrOMluBdcy4Y",
    "NAtjonZxcy4Z",
    "KwgwPeAfcy4b",
    "zsMUy-vncy4f",
    "oepIgSnUcy4k"
   ],
   "name": "Data  Mining - CA1.ipynb",
   "provenance": []
  },
  "kernelspec": {
   "display_name": "Python 3",
   "language": "python",
   "name": "python3"
  },
  "language_info": {
   "codemirror_mode": {
    "name": "ipython",
    "version": 3
   },
   "file_extension": ".py",
   "mimetype": "text/x-python",
   "name": "python",
   "nbconvert_exporter": "python",
   "pygments_lexer": "ipython3",
   "version": "3.8.8"
  }
 },
 "nbformat": 4,
 "nbformat_minor": 1
}
