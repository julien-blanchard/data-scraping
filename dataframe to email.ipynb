{
  "nbformat": 4,
  "nbformat_minor": 0,
  "metadata": {
    "colab": {
      "name": "Untitled0.ipynb",
      "provenance": [],
      "collapsed_sections": []
    },
    "kernelspec": {
      "name": "python3",
      "display_name": "Python 3"
    },
    "language_info": {
      "name": "python"
    }
  },
  "cells": [
    {
      "cell_type": "markdown",
      "source": [
        "# **Pandas dataframe to email**"
      ],
      "metadata": {
        "id": "T_pC9DzVryVj"
      }
    },
    {
      "cell_type": "markdown",
      "source": [
        "# **Libraries**"
      ],
      "metadata": {
        "id": "UZFErOz1sIns"
      }
    },
    {
      "cell_type": "code",
      "execution_count": null,
      "metadata": {
        "id": "6W-KPmzdrnqu"
      },
      "outputs": [],
      "source": [
        "import smtplib\n",
        "from email.mime.base import MIMEBase\n",
        "from email.mime.image import MIMEImage\n",
        "from email.mime.multipart import MIMEMultipart\n",
        "from email.mime.text import MIMEText\n",
        "from email import encoders\n",
        "import os\n",
        "import pandas as pd"
      ]
    },
    {
      "cell_type": "markdown",
      "source": [
        "# **Email**\n",
        "\n",
        "Provided you have:\n",
        "1. a Pandas dataframe aliased as df\n",
        "2. a plot image named \"plot.png\""
      ],
      "metadata": {
        "id": "qXwcu1-zsp_w"
      }
    },
    {
      "cell_type": "code",
      "source": [
        "class Email:\n",
        "  def __init__(self):\n",
        "    self.Sender = \"youremailaddress@emailaddress.com\"\n",
        "    self.Distribution = [\n",
        "                         \"person1\",\n",
        "                         \"person2\",\n",
        "                         \"person3\",\n",
        "                         \"etc\"\n",
        "                        ]\n",
        "    self.Subject = \"The subject of the email\"\n",
        "  \n",
        "  def getInfo(self):\n",
        "    message = MIMEMultipart()\n",
        "    message[\"Subject\"] = self.Subject\n",
        "    message[\"From\"] = self.Sender\n",
        "    message[\"To\"] = \",\".join(self.Distribution)\n",
        "    return message\n",
        "\n",
        "  def getHTML(self):\n",
        "    body = \"\"\"\\\n",
        "      <html>\n",
        "      <head>\n",
        "      </head>\n",
        "      <body>\n",
        "      </body>\n",
        "\n",
        "    \"\"\".format(\n",
        "        df.to_html()\n",
        "    )\n",
        "    return body\n",
        "\n",
        "  def getImage(self):\n",
        "    part = MIMEBase(\"application\",\"octet-stream\")\n",
        "    part.set_payload(open(f\"path/whereyourimageis/{image}.png\", \"rb\").read())\n",
        "    encoders.encode_base64(part)\n",
        "    part.add_header(\n",
        "        \"Content-Disposition\",\n",
        "        \"attachement, filename={}\".format(\"chart.png\")\n",
        "    )\n",
        "    return part\n",
        "  \n",
        "  def sendEmail(self):\n",
        "    content = self.getHTML()\n",
        "    message = self.getInfo()\n",
        "    plot = self.getImage(\"plot.png\")\n",
        "    email = MIMEText(content, \"html\")\n",
        "    message.attach(email)\n",
        "    message.attach(plot)\n",
        "    mailsrv = smtplib.SMTP(\"localhost: whicheverlocalhostyouareusing\")\n",
        "    mailsrv.sendmail(self.Sender, self.Distribution, str(message))\n",
        "    mailsrv.quit()"
      ],
      "metadata": {
        "id": "Ou19BgUgssye"
      },
      "execution_count": null,
      "outputs": []
    },
    {
      "cell_type": "code",
      "source": [
        "# sending the dataframe\n",
        "email = Email()\n",
        "email.sendEmail()"
      ],
      "metadata": {
        "id": "0BZVZq5iwgXS"
      },
      "execution_count": null,
      "outputs": []
    }
  ]
}